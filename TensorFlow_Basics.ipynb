{
  "nbformat": 4,
  "nbformat_minor": 0,
  "metadata": {
    "colab": {
      "name": "TensorFlow-Basics.ipynb",
      "provenance": [],
      "collapsed_sections": []
    },
    "kernelspec": {
      "name": "python3",
      "display_name": "Python 3"
    },
    "language_info": {
      "name": "python"
    }
  },
  "cells": [
    {
      "cell_type": "markdown",
      "source": [
        "**TensorFlow Basics**"
      ],
      "metadata": {
        "id": "Qu8OaUwKSFQ6"
      }
    },
    {
      "cell_type": "code",
      "execution_count": 43,
      "metadata": {
        "id": "U4m56XR3R9yT"
      },
      "outputs": [],
      "source": [
        "import tensorflow as tf\n",
        "import numpy as np "
      ]
    },
    {
      "cell_type": "code",
      "source": [
        "# Make Sure you are using 2.3.0 for exact syntex matching!\n",
        "print(tf.__version__)"
      ],
      "metadata": {
        "colab": {
          "base_uri": "https://localhost:8080/"
        },
        "id": "AKlQZtnsSOKp",
        "outputId": "fc378d28-af66-4f37-ab3e-9a2aa6bc43a2"
      },
      "execution_count": 44,
      "outputs": [
        {
          "output_type": "stream",
          "name": "stdout",
          "text": [
            "2.8.0\n"
          ]
        }
      ]
    },
    {
      "cell_type": "markdown",
      "source": [
        "**HelloWorld**"
      ],
      "metadata": {
        "id": "CYKk5m58SuoA"
      }
    },
    {
      "cell_type": "code",
      "source": [
        "hello = tf.constant('Hello')"
      ],
      "metadata": {
        "id": "ilMA1gKZSgH-"
      },
      "execution_count": 45,
      "outputs": []
    },
    {
      "cell_type": "code",
      "source": [
        "type(hello)"
      ],
      "metadata": {
        "colab": {
          "base_uri": "https://localhost:8080/"
        },
        "id": "ow7FhIYZS2VU",
        "outputId": "4af203f0-6d9f-4aeb-907a-7af93c115897"
      },
      "execution_count": 46,
      "outputs": [
        {
          "output_type": "execute_result",
          "data": {
            "text/plain": [
              "tensorflow.python.framework.ops.EagerTensor"
            ]
          },
          "metadata": {},
          "execution_count": 46
        }
      ]
    },
    {
      "cell_type": "code",
      "source": [
        "world = tf.constant('World')"
      ],
      "metadata": {
        "id": "AdTvLoIIS6X4"
      },
      "execution_count": 47,
      "outputs": []
    },
    {
      "cell_type": "code",
      "source": [
        "result = hello + world"
      ],
      "metadata": {
        "id": "ueldo96_TClO"
      },
      "execution_count": 48,
      "outputs": []
    },
    {
      "cell_type": "code",
      "source": [
        "result"
      ],
      "metadata": {
        "colab": {
          "base_uri": "https://localhost:8080/"
        },
        "id": "UkFEZX-4TF33",
        "outputId": "deaa7fd1-3e45-4817-8969-b7c66693ac13"
      },
      "execution_count": 49,
      "outputs": [
        {
          "output_type": "execute_result",
          "data": {
            "text/plain": [
              "<tf.Tensor: shape=(), dtype=string, numpy=b'HelloWorld'>"
            ]
          },
          "metadata": {},
          "execution_count": 49
        }
      ]
    },
    {
      "cell_type": "code",
      "source": [
        "type(result)"
      ],
      "metadata": {
        "colab": {
          "base_uri": "https://localhost:8080/"
        },
        "id": "lOZm4k9XTG9t",
        "outputId": "f2130403-c8fb-4eb9-e3dc-346c7a5d76aa"
      },
      "execution_count": 50,
      "outputs": [
        {
          "output_type": "execute_result",
          "data": {
            "text/plain": [
              "tensorflow.python.framework.ops.EagerTensor"
            ]
          },
          "metadata": {},
          "execution_count": 50
        }
      ]
    },
    {
      "cell_type": "code",
      "source": [
        "\n",
        "with tf.compat.v1.Session() as sess:\n",
        "    result = tf.constant('hello world')\n",
        "    print(sess.run(result))    "
      ],
      "metadata": {
        "colab": {
          "base_uri": "https://localhost:8080/"
        },
        "id": "BzmMR02xTJxY",
        "outputId": "bb7263e9-64bd-4930-bd0a-39e7b365ac05"
      },
      "execution_count": 59,
      "outputs": [
        {
          "output_type": "stream",
          "name": "stdout",
          "text": [
            "b'hello world'\n"
          ]
        }
      ]
    },
    {
      "cell_type": "markdown",
      "source": [
        "**Computations**"
      ],
      "metadata": {
        "id": "d2INWXb4T2Ev"
      }
    },
    {
      "cell_type": "code",
      "source": [
        "tensor_1 = tf.constant(1)\n",
        "tensor_2 = tf.constant(2)"
      ],
      "metadata": {
        "id": "14wHmT_5TsZ-"
      },
      "execution_count": 61,
      "outputs": []
    },
    {
      "cell_type": "code",
      "source": [
        "type(tensor_1)"
      ],
      "metadata": {
        "colab": {
          "base_uri": "https://localhost:8080/"
        },
        "id": "qYqFgjbTUAlO",
        "outputId": "b91784cf-2995-413f-b8cf-4ca3a8071d99"
      },
      "execution_count": 62,
      "outputs": [
        {
          "output_type": "execute_result",
          "data": {
            "text/plain": [
              "tensorflow.python.framework.ops.EagerTensor"
            ]
          },
          "metadata": {},
          "execution_count": 62
        }
      ]
    },
    {
      "cell_type": "code",
      "source": [
        "tensor_1 + tensor_2"
      ],
      "metadata": {
        "colab": {
          "base_uri": "https://localhost:8080/"
        },
        "id": "y7LjH78OUC54",
        "outputId": "b862590f-fe50-419b-cd64-478e738b17a5"
      },
      "execution_count": 63,
      "outputs": [
        {
          "output_type": "execute_result",
          "data": {
            "text/plain": [
              "<tf.Tensor: shape=(), dtype=int32, numpy=3>"
            ]
          },
          "metadata": {},
          "execution_count": 63
        }
      ]
    },
    {
      "cell_type": "code",
      "source": [
        "sess"
      ],
      "metadata": {
        "colab": {
          "base_uri": "https://localhost:8080/"
        },
        "id": "1qLQ2UHoUJGd",
        "outputId": "b80cdd64-a029-4178-e9d2-822441bee970"
      },
      "execution_count": 64,
      "outputs": [
        {
          "output_type": "execute_result",
          "data": {
            "text/plain": [
              "<tensorflow.python.client.session.Session at 0x7ff9dd29b790>"
            ]
          },
          "metadata": {},
          "execution_count": 64
        }
      ]
    },
    {
      "cell_type": "code",
      "source": [
        "sess.close()"
      ],
      "metadata": {
        "id": "Pa9jKN9KUKIU"
      },
      "execution_count": 65,
      "outputs": []
    },
    {
      "cell_type": "markdown",
      "source": [
        "**Matrix Multiplication**"
      ],
      "metadata": {
        "id": "02KKEKL0WrN2"
      }
    },
    {
      "cell_type": "code",
      "source": [
        "a = tf.constant([[1,2],\n",
        "                [3,4]])"
      ],
      "metadata": {
        "id": "k3NoP-QRUNT2"
      },
      "execution_count": 66,
      "outputs": []
    },
    {
      "cell_type": "code",
      "source": [
        "a.get_shape()"
      ],
      "metadata": {
        "colab": {
          "base_uri": "https://localhost:8080/"
        },
        "id": "C2OyzrPwW2bX",
        "outputId": "82e04801-fb7f-42c0-c7b2-c937c3de5c0b"
      },
      "execution_count": 67,
      "outputs": [
        {
          "output_type": "execute_result",
          "data": {
            "text/plain": [
              "TensorShape([2, 2])"
            ]
          },
          "metadata": {},
          "execution_count": 67
        }
      ]
    },
    {
      "cell_type": "code",
      "source": [
        "b = tf.constant([[10],[100]])"
      ],
      "metadata": {
        "id": "OFak9E49W_vu"
      },
      "execution_count": 68,
      "outputs": []
    },
    {
      "cell_type": "code",
      "source": [
        "b.get_shape()"
      ],
      "metadata": {
        "colab": {
          "base_uri": "https://localhost:8080/"
        },
        "id": "C_dw_RaaXJ3m",
        "outputId": "913cf268-803c-4973-c066-9e85a1f54695"
      },
      "execution_count": 69,
      "outputs": [
        {
          "output_type": "execute_result",
          "data": {
            "text/plain": [
              "TensorShape([2, 1])"
            ]
          },
          "metadata": {},
          "execution_count": 69
        }
      ]
    },
    {
      "cell_type": "code",
      "source": [
        "result = tf.matmul(a,b)"
      ],
      "metadata": {
        "id": "p3j96UxrXMB2"
      },
      "execution_count": 70,
      "outputs": []
    },
    {
      "cell_type": "code",
      "source": [
        "tf.print(result)"
      ],
      "metadata": {
        "id": "rUXlCljsXdrb",
        "colab": {
          "base_uri": "https://localhost:8080/"
        },
        "outputId": "5d64379b-3169-4221-eaf5-260bbe7ef1ff"
      },
      "execution_count": 74,
      "outputs": [
        {
          "output_type": "stream",
          "name": "stdout",
          "text": [
            "[[210]\n",
            " [430]]\n"
          ]
        }
      ]
    },
    {
      "cell_type": "code",
      "source": [
        ""
      ],
      "metadata": {
        "id": "RyYOhYXudYl6"
      },
      "execution_count": null,
      "outputs": []
    }
  ]
}